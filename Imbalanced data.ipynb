{
 "cells": [
  {
   "cell_type": "markdown",
   "id": "300c3e06",
   "metadata": {
    "slideshow": {
     "slide_type": "slide"
    }
   },
   "source": [
    "Imbalanced data refers to a situation in datasets where the class distribution is not uniform, meaning one class significantly outnumbers the other class(es). This imbalance can be slight or extreme, with extreme cases where the minority class constitutes a very small fraction of the total dataset. Imbalanced datasets are common in various domains, such as fraud detection, medical diagnosis, and spam filtering, where the event of interest (fraud, disease, spam) is rare compared to the non-event."
   ]
  },
  {
   "cell_type": "markdown",
   "id": "942741aa",
   "metadata": {},
   "source": [
    "# Issues\n",
    "\n",
    "Imbalanced datasets can lead to several issues, particularly when developing predictive models. These issues include:\n",
    "\n",
    "## Model Bias\n",
    "\n",
    "- **Bias towards Majority Class**: Machine learning algorithms aim to maximize overall accuracy by default. In the context of imbalanced data, this often leads to models that are biased towards the majority class, as correctly predicting the majority class will still achieve high accuracy.\n",
    "- **Poor Generalization for Minority Class**: As a consequence, the model may perform poorly on the minority class because it has not effectively learned the characteristics of the minority class instances.\n",
    "\n",
    "## Misleading Model Evaluation\n",
    "\n",
    "- **Accuracy Paradox**: Traditional evaluation metrics like accuracy can be misleading in the context of imbalanced datasets. A model could simply predict the majority class for all instances and still achieve high accuracy, despite failing to correctly classify any minority class instances.\n",
    "- **Need for Advanced Metrics**: This necessitates the use of more nuanced metrics such as precision, recall, F1-score, and the Area Under the Receiver Operating Characteristic Curve (AUROC) to gain a true understanding of model performance, especially its ability to detect minority class instances.\n",
    "\n",
    "## Overfitting\n",
    "\n",
    "- **Overfitting to Majority Class**: There's a risk that the model overfits to the majority class, capturing noise rather than the underlying patterns, especially if the minority class is not just underrepresented but also under-sampled."
   ]
  },
  {
   "cell_type": "markdown",
   "id": "10825866",
   "metadata": {},
   "source": [
    "To demonstrate the issues caused by imbalanced data, in the lesson we use **Credit Card Fraud Detection Dataset**. In this dataset contains transactions made by credit cards in September 2013 by European cardholders. It presents transactions that occurred in two days, where we have 492 frauds out of 284,807 transactions. The dataset is highly unbalanced, the positive class (frauds) account for 0.172% of all transactions."
   ]
  },
  {
   "cell_type": "code",
   "execution_count": 2,
   "id": "2c391479",
   "metadata": {},
   "outputs": [],
   "source": [
    "import numpy as np\n",
    "import pandas as pd\n",
    "from collections import Counter\n",
    "\n",
    "import matplotlib.pyplot as plt\n",
    "import seaborn as sns\n",
    "\n",
    "from imblearn.over_sampling import SMOTE\n",
    "from imblearn.ensemble import BalancedRandomForestClassifier\n",
    "\n",
    "from sklearn.model_selection import train_test_split\n",
    "from sklearn.linear_model import LogisticRegression\n",
    "from sklearn.metrics import classification_report, confusion_matrix\n",
    "from imblearn.under_sampling import RandomUnderSampler\n",
    "\n",
    "import warnings\n",
    "warnings.filterwarnings('ignore')"
   ]
  },
  {
   "cell_type": "code",
   "execution_count": 3,
   "id": "06163c9d",
   "metadata": {},
   "outputs": [
    {
     "data": {
      "text/html": [
       "<div>\n",
       "<style scoped>\n",
       "    .dataframe tbody tr th:only-of-type {\n",
       "        vertical-align: middle;\n",
       "    }\n",
       "\n",
       "    .dataframe tbody tr th {\n",
       "        vertical-align: top;\n",
       "    }\n",
       "\n",
       "    .dataframe thead th {\n",
       "        text-align: right;\n",
       "    }\n",
       "</style>\n",
       "<table border=\"1\" class=\"dataframe\">\n",
       "  <thead>\n",
       "    <tr style=\"text-align: right;\">\n",
       "      <th></th>\n",
       "      <th>Time</th>\n",
       "      <th>V1</th>\n",
       "      <th>V2</th>\n",
       "      <th>V3</th>\n",
       "      <th>V4</th>\n",
       "      <th>V5</th>\n",
       "      <th>V6</th>\n",
       "      <th>V7</th>\n",
       "      <th>V8</th>\n",
       "      <th>V9</th>\n",
       "      <th>...</th>\n",
       "      <th>V21</th>\n",
       "      <th>V22</th>\n",
       "      <th>V23</th>\n",
       "      <th>V24</th>\n",
       "      <th>V25</th>\n",
       "      <th>V26</th>\n",
       "      <th>V27</th>\n",
       "      <th>V28</th>\n",
       "      <th>Amount</th>\n",
       "      <th>Class</th>\n",
       "    </tr>\n",
       "  </thead>\n",
       "  <tbody>\n",
       "    <tr>\n",
       "      <th>517</th>\n",
       "      <td>383.0</td>\n",
       "      <td>-0.907909</td>\n",
       "      <td>1.622223</td>\n",
       "      <td>0.036381</td>\n",
       "      <td>0.526254</td>\n",
       "      <td>0.343560</td>\n",
       "      <td>-0.814126</td>\n",
       "      <td>1.286353</td>\n",
       "      <td>-0.513284</td>\n",
       "      <td>0.650091</td>\n",
       "      <td>...</td>\n",
       "      <td>-0.118735</td>\n",
       "      <td>0.640329</td>\n",
       "      <td>0.022339</td>\n",
       "      <td>0.297445</td>\n",
       "      <td>-0.650608</td>\n",
       "      <td>-0.530175</td>\n",
       "      <td>-0.042296</td>\n",
       "      <td>-0.490802</td>\n",
       "      <td>17.99</td>\n",
       "      <td>0</td>\n",
       "    </tr>\n",
       "    <tr>\n",
       "      <th>83223</th>\n",
       "      <td>59741.0</td>\n",
       "      <td>-0.625264</td>\n",
       "      <td>1.316498</td>\n",
       "      <td>1.121048</td>\n",
       "      <td>0.869104</td>\n",
       "      <td>0.608456</td>\n",
       "      <td>-1.045630</td>\n",
       "      <td>0.850465</td>\n",
       "      <td>-0.129441</td>\n",
       "      <td>-1.131925</td>\n",
       "      <td>...</td>\n",
       "      <td>-0.012568</td>\n",
       "      <td>0.011874</td>\n",
       "      <td>-0.253619</td>\n",
       "      <td>0.518236</td>\n",
       "      <td>0.232526</td>\n",
       "      <td>0.544213</td>\n",
       "      <td>0.052005</td>\n",
       "      <td>0.106726</td>\n",
       "      <td>0.76</td>\n",
       "      <td>0</td>\n",
       "    </tr>\n",
       "    <tr>\n",
       "      <th>256768</th>\n",
       "      <td>157850.0</td>\n",
       "      <td>1.997960</td>\n",
       "      <td>-0.236238</td>\n",
       "      <td>-0.299657</td>\n",
       "      <td>0.382221</td>\n",
       "      <td>-0.622272</td>\n",
       "      <td>-0.699215</td>\n",
       "      <td>-0.446888</td>\n",
       "      <td>-0.087426</td>\n",
       "      <td>1.160279</td>\n",
       "      <td>...</td>\n",
       "      <td>-0.138284</td>\n",
       "      <td>-0.257183</td>\n",
       "      <td>0.372755</td>\n",
       "      <td>-0.125935</td>\n",
       "      <td>-0.443634</td>\n",
       "      <td>-0.607855</td>\n",
       "      <td>0.038171</td>\n",
       "      <td>-0.031887</td>\n",
       "      <td>1.00</td>\n",
       "      <td>0</td>\n",
       "    </tr>\n",
       "  </tbody>\n",
       "</table>\n",
       "<p>3 rows × 31 columns</p>\n",
       "</div>"
      ],
      "text/plain": [
       "            Time        V1        V2        V3        V4        V5        V6  \\\n",
       "517        383.0 -0.907909  1.622223  0.036381  0.526254  0.343560 -0.814126   \n",
       "83223    59741.0 -0.625264  1.316498  1.121048  0.869104  0.608456 -1.045630   \n",
       "256768  157850.0  1.997960 -0.236238 -0.299657  0.382221 -0.622272 -0.699215   \n",
       "\n",
       "              V7        V8        V9  ...       V21       V22       V23  \\\n",
       "517     1.286353 -0.513284  0.650091  ... -0.118735  0.640329  0.022339   \n",
       "83223   0.850465 -0.129441 -1.131925  ... -0.012568  0.011874 -0.253619   \n",
       "256768 -0.446888 -0.087426  1.160279  ... -0.138284 -0.257183  0.372755   \n",
       "\n",
       "             V24       V25       V26       V27       V28  Amount  Class  \n",
       "517     0.297445 -0.650608 -0.530175 -0.042296 -0.490802   17.99      0  \n",
       "83223   0.518236  0.232526  0.544213  0.052005  0.106726    0.76      0  \n",
       "256768 -0.125935 -0.443634 -0.607855  0.038171 -0.031887    1.00      0  \n",
       "\n",
       "[3 rows x 31 columns]"
      ]
     },
     "execution_count": 3,
     "metadata": {},
     "output_type": "execute_result"
    }
   ],
   "source": [
    "credit = pd.read_csv('./Data/creditcard.csv')\n",
    "\n",
    "credit.sample(3)"
   ]
  },
  {
   "cell_type": "code",
   "execution_count": 4,
   "id": "328c8b44",
   "metadata": {},
   "outputs": [
    {
     "name": "stdout",
     "output_type": "stream",
     "text": [
      "<class 'pandas.core.frame.DataFrame'>\n",
      "RangeIndex: 284807 entries, 0 to 284806\n",
      "Data columns (total 31 columns):\n",
      " #   Column  Non-Null Count   Dtype  \n",
      "---  ------  --------------   -----  \n",
      " 0   Time    284807 non-null  float64\n",
      " 1   V1      284807 non-null  float64\n",
      " 2   V2      284807 non-null  float64\n",
      " 3   V3      284807 non-null  float64\n",
      " 4   V4      284807 non-null  float64\n",
      " 5   V5      284807 non-null  float64\n",
      " 6   V6      284807 non-null  float64\n",
      " 7   V7      284807 non-null  float64\n",
      " 8   V8      284807 non-null  float64\n",
      " 9   V9      284807 non-null  float64\n",
      " 10  V10     284807 non-null  float64\n",
      " 11  V11     284807 non-null  float64\n",
      " 12  V12     284807 non-null  float64\n",
      " 13  V13     284807 non-null  float64\n",
      " 14  V14     284807 non-null  float64\n",
      " 15  V15     284807 non-null  float64\n",
      " 16  V16     284807 non-null  float64\n",
      " 17  V17     284807 non-null  float64\n",
      " 18  V18     284807 non-null  float64\n",
      " 19  V19     284807 non-null  float64\n",
      " 20  V20     284807 non-null  float64\n",
      " 21  V21     284807 non-null  float64\n",
      " 22  V22     284807 non-null  float64\n",
      " 23  V23     284807 non-null  float64\n",
      " 24  V24     284807 non-null  float64\n",
      " 25  V25     284807 non-null  float64\n",
      " 26  V26     284807 non-null  float64\n",
      " 27  V27     284807 non-null  float64\n",
      " 28  V28     284807 non-null  float64\n",
      " 29  Amount  284807 non-null  float64\n",
      " 30  Class   284807 non-null  int64  \n",
      "dtypes: float64(30), int64(1)\n",
      "memory usage: 67.4 MB\n"
     ]
    }
   ],
   "source": [
    "# Basic information about the dataset\n",
    "credit.info()"
   ]
  },
  {
   "cell_type": "code",
   "execution_count": 5,
   "id": "ef04cdb4",
   "metadata": {},
   "outputs": [
    {
     "name": "stdout",
     "output_type": "stream",
     "text": [
      "Class\n",
      "0    0.998273\n",
      "1    0.001727\n",
      "Name: proportion, dtype: float64\n"
     ]
    }
   ],
   "source": [
    "# Checking the balance of the classes\n",
    "class_distribution = credit['Class'].value_counts(normalize=True)\n",
    "print(class_distribution)"
   ]
  },
  {
   "cell_type": "code",
   "execution_count": 6,
   "id": "bd760a6d",
   "metadata": {},
   "outputs": [
    {
     "data": {
      "image/png": "[encoded data removed]",
      "text/plain": [
       "<Figure size 800x600 with 1 Axes>"
      ]
     },
     "metadata": {},
     "output_type": "display_data"
    }
   ],
   "source": [
    "# Visualizing the class imbalance\n",
    "plt.figure(figsize=(8, 6))\n",
    "sns.countplot(x='Class', data=credit)\n",
    "plt.title('Class Distribution (0: No Fraud | 1: Fraud)')\n",
    "plt.show()"
   ]
  },
  {
   "cell_type": "code",
   "execution_count": 7,
   "id": "32d1afe7",
   "metadata": {
    "scrolled": true
   },
   "outputs": [
    {
     "data": {
      "image/png": "[encoded data removed]",
      "text/plain": [
       "<Figure size 1800x400 with 2 Axes>"
      ]
     },
     "metadata": {},
     "output_type": "display_data"
    }
   ],
   "source": [
    "# Visualizing the distribution of transaction amounts and time with fraud occurrence\n",
    "fig, ax = plt.subplots(1, 2, figsize=(18, 4))\n",
    "\n",
    "amount_val = credit['Amount'].values\n",
    "time_val = credit['Time'].values\n",
    "\n",
    "sns.histplot(amount_val, ax=ax[0], bins=100, color='r')\n",
    "ax[0].set_title('Distribution of Transaction Amount', fontsize=14)\n",
    "ax[0].set_xlim([min(amount_val), max(amount_val)])\n",
    "ax[0].set_xlabel('Transaction Amount')\n",
    "ax[0].set_ylabel('Frequency')\n",
    "\n",
    "sns.histplot(time_val, ax=ax[1], color='b')\n",
    "ax[1].set_title('Distribution of Transaction Time', fontsize=14)\n",
    "ax[1].set_xlim([min(time_val), max(time_val)])\n",
    "ax[1].set_xlabel('Transaction Time')\n",
    "ax[1].set_ylabel('Frequency')\n",
    "\n",
    "plt.show()"
   ]
  },
  {
   "cell_type": "markdown",
   "id": "98aeb357",
   "metadata": {},
   "source": [
    "# Handling Techniques\n",
    "\n",
    "To address the challenges posed by imbalanced datasets, various techniques have been developed, including:\n",
    "\n",
    "## Resampling Methods\n",
    "\n",
    "### Oversampling Minority Class: \n",
    "Increasing the number of instances in the minority class by replicating them or generating synthetic samples (e.g., SMOTE - Synthetic Minority Over-sampling Technique).\n",
    "\n",
    "When working with datasets in fields like finance, healthcare, or security, we often encounter a common challenge: imbalanced classes. This means one class (the minority) has far fewer instances than the other(s) (the majority). For example, in fraud detection, fraudulent transactions are much rarer than legitimate ones. This imbalance can make it hard for machine learning models to learn about the minority class, leading to poor performance in detecting these critical but rare events.\n",
    "\n",
    "**What is Oversampling?**\n",
    "\n",
    "Oversampling is a technique used to address this imbalance by increasing the number of instances in the minority class. The goal is to balance the dataset, making the minority class more represented. This helps the machine learning model learn better by giving it more examples of the minority class to learn from.\n",
    "\n",
    "**How Does Oversampling Work?**\n",
    "\n",
    "There are two main ways to oversample the minority class:\n",
    "\n",
    "#### Simple Replication\n",
    "\n",
    "The simplest form of oversampling is replicating existing instances of the minority class. This means copying the minority class data points multiple times to increase their presence in the dataset. While easy to implement, this method can lead to overfitting, where the model learns the replicated examples too well and performs poorly on unseen data.\n",
    "\n",
    "#### Generating Synthetic Samples\n",
    "\n",
    "A more sophisticated approach involves generating new, synthetic instances of the minority class. This can be done using algorithms like **SMOTE (Synthetic Minority Over-sampling Technique)**. SMOTE works by selecting instances that are close in the feature space, drawing a line between the instances in the feature space, and drawing a new sample at a point along that line. This approach generates new, plausible examples of the minority class, helping the model learn a broader representation of that class."
   ]
  },
  {
   "cell_type": "code",
   "execution_count": 10,
   "id": "c516873c",
   "metadata": {},
   "outputs": [
    {
     "name": "stdout",
     "output_type": "stream",
     "text": [
      "Original dataset shape Counter({0: 227451, 1: 394})\n",
      "Resampled dataset shape Counter({0: 227451, 1: 227451})\n"
     ]
    }
   ],
   "source": [
    "# Separate input features and target\n",
    "X = credit.drop('Class', axis=1)  # Assuming 'Class' is the target column\n",
    "y = credit['Class']\n",
    "\n",
    "# Splitting dataset into training and testing set\n",
    "X_train, X_test, y_train, y_test = train_test_split(X,\n",
    "                                                    y,\n",
    "                                                    test_size=0.2,\n",
    "                                                    random_state=42)\n",
    "\n",
    "# Applying SMOTE\n",
    "sm = SMOTE(random_state=42)\n",
    "X_res, y_res = sm.fit_resample(X_train, y_train)\n",
    "\n",
    "# Summary before and after\n",
    "print('Original dataset shape %s' % Counter(y_train))\n",
    "print('Resampled dataset shape %s' % Counter(y_res))"
   ]
  },
  {
   "cell_type": "markdown",
   "id": "637dcdfe",
   "metadata": {},
   "source": [
    "**Why Use SMOTE?**\n",
    "\n",
    "- **Variety**: SMOTE introduces more diversity into the dataset by creating synthetic instances, rather than just copying existing ones. This helps prevent overfitting.\n",
    "- **Improved Learning**: By creating a balanced dataset, models can learn the characteristics of the minority class more effectively, leading to better detection of these instances in real-world scenarios.\n",
    "- **Enhanced Model Performance**: Models trained on oversampled datasets often show improved performance on imbalanced datasets, particularly in their ability to correctly identify minority class instances."
   ]
  },
  {
   "cell_type": "markdown",
   "id": "6e5eecdc",
   "metadata": {},
   "source": [
    "### Undersampling Majority Class: \n",
    "Reducing the number of instances in the majority class to balance the class distribution. This can lead to a loss of potentially useful data, however.\n",
    "\n",
    "In many real-world machine learning applications, from fraud detection to medical diagnosis, we often face the challenge of imbalanced datasets. This imbalance usually skews towards one class (the majority) having many more instances than the other (the minority). While oversampling techniques focus on increasing the minority class's representation, another approach to address imbalance is undersampling the majority class.\n",
    "\n",
    "**What is Undersampling?**\n",
    "\n",
    "Undersampling involves reducing the number of instances in the majority class to make the class distribution more balanced. The primary goal is to decrease the size of the majority class to match the minority class's size, thereby creating a dataset where both classes are equally represented.\n",
    "\n",
    "**How Does Undersampling Work?**\n",
    "\n",
    "There are several strategies for undersampling, but the most straightforward approach is to randomly select a subset of the majority class. This selection reduces the majority class's size to a level comparable to the minority class. The main methods of undersampling include:\n",
    "\n",
    "\n",
    "#### Informed Undersampling\n",
    "\n",
    "Informed undersampling techniques, such as NearMiss, use clustering methods to retain the majority class instances that are most valuable for learning, typically those that are close to the minority class instances. This approach aims to preserve the informative aspects of the majority class while still reducing its size.\n"
   ]
  },
  {
   "cell_type": "markdown",
   "id": "390ad686",
   "metadata": {},
   "source": [
    "\n",
    "#### Random Undersampling\n",
    "\n",
    "This method involves randomly selecting a subset of the majority class without replacement, meaning each selected instance is removed from the pool of potential selections. This randomness helps maintain the majority class's diversity, but there's a risk of losing potentially valuable data that could help the model learn more nuanced patterns."
   ]
  },
  {
   "cell_type": "code",
   "execution_count": 11,
   "id": "ec2406e2",
   "metadata": {},
   "outputs": [
    {
     "name": "stdout",
     "output_type": "stream",
     "text": [
      "Original dataset shape Counter({0: 227451, 1: 394})\n",
      "Resampled dataset shape Counter({0: 394, 1: 394})\n"
     ]
    }
   ],
   "source": [
    "# Applying Random Under-sampling\n",
    "rus = RandomUnderSampler(random_state=42)\n",
    "X_res, y_res = rus.fit_resample(X_train, y_train)\n",
    "\n",
    "# Summary before and after\n",
    "print('Original dataset shape %s' % Counter(y_train))\n",
    "print('Resampled dataset shape %s' % Counter(y_res))"
   ]
  },
  {
   "cell_type": "markdown",
   "id": "8dd242fb",
   "metadata": {},
   "source": [
    "\n",
    "\n",
    "#### Advantages\n",
    "\n",
    "- **Computational Efficiency**: By reducing the size of the dataset, undersampling can make training models faster and more computationally efficient.\n",
    "- **Mitigating Overfitting**: It helps to prevent the model from overfitting to the majority class by balancing the class distribution.\n",
    "\n",
    "#### Disadvantages\n",
    "\n",
    "- **Loss of Information**: Randomly discarding instances from the majority class can lead to the loss of important data, potentially degrading the model's performance.\n",
    "- **Limited Effectiveness**: If the imbalance is extreme, undersampling the majority class too much might not leave enough data for effective model training."
   ]
  },
  {
   "cell_type": "markdown",
   "id": "63b3eed2",
   "metadata": {},
   "source": [
    "## Algorithmic Approaches"
   ]
  },
  {
   "cell_type": "markdown",
   "id": "90ce8a2a",
   "metadata": {},
   "source": [
    "### Cost-sensitive Learning\n",
    "Modifying algorithms to make the cost of misclassifying minority class instances higher than that of misclassifying majority class instances. Cost-sensitive learning is a crucial concept in machine learning, especially when dealing with imbalanced datasets where the classes are not represented equally. Let's break down this concept into simpler parts for better understanding.\n",
    "\n",
    "In many real-world scenarios, not all mistakes made by a machine learning model are equal. Some errors can have more severe consequences than others. For example, in medical diagnosis, falsely predicting a healthy person as sick (false positive) is less critical than missing an actual sick person (false negative), as the latter can lead to a lack of necessary treatment.\n",
    "\n",
    "Cost-sensitive learning is a strategy that addresses this issue by assigning different costs to different types of errors. It modifies the learning algorithm to minimize not just the number of errors but the total cost associated with those errors.\n",
    "\n",
    "**Why is it Important?**\n",
    "\n",
    "In a balanced dataset, each class has approximately the same number of instances, and usually, the goal is to maximize overall accuracy. However, in imbalanced datasets, where one class significantly outnumbers the other, simply maximizing accuracy can be misleading. For instance, in a dataset with 95% of class A and 5% of class B, a naive model that always predicts class A will achieve 95% accuracy but completely fail to identify class B.\n",
    "\n",
    "Cost-sensitive learning becomes particularly important in such cases because it ensures that the model pays more attention to the minority class by assigning a higher cost to misclassifying instances of this class.\n",
    "\n",
    "**How Does it Work?**\n",
    "\n",
    "Cost-sensitive learning can be implemented in two primary ways:\n",
    "\n",
    "#### Modifying the Algorithm\n",
    "\n",
    "Some algorithms allow for the direct incorporation of cost into the learning process. This can involve adjusting the algorithm's objective function to penalize certain types of errors more than others.\n",
    "\n",
    "#### Adjusting Class Weights\n",
    "\n",
    "Another common approach is to assign weights to classes. For algorithms that support this feature, you can specify that errors in the minority class are more costly than errors in the majority class. This is done by assigning a higher weight to the minority class, making the algorithm \"pay more attention\" to those instances.\n"
   ]
  },
  {
   "cell_type": "code",
   "execution_count": 12,
   "id": "9f5143bd",
   "metadata": {},
   "outputs": [
    {
     "name": "stdout",
     "output_type": "stream",
     "text": [
      "Classification Report:\n",
      "              precision    recall  f1-score   support\n",
      "\n",
      "           0       1.00      0.97      0.99     56864\n",
      "           1       0.05      0.94      0.10        98\n",
      "\n",
      "    accuracy                           0.97     56962\n",
      "   macro avg       0.53      0.96      0.54     56962\n",
      "weighted avg       1.00      0.97      0.98     56962\n",
      "\n",
      "Confusion Matrix:\n",
      "[[55274  1590]\n",
      " [    6    92]]\n"
     ]
    }
   ],
   "source": [
    "# Calculate class weights for cost-sensitive learning\n",
    "# 'balanced' automatically adjusts weights inversely proportional to class frequencies in the input data\n",
    "class_weights = 'balanced'\n",
    "\n",
    "# Initialize the model with class weights for cost-sensitive learning\n",
    "model = LogisticRegression(class_weight=class_weights, max_iter=1000)\n",
    "\n",
    "# Train the model\n",
    "model.fit(X_train, y_train)\n",
    "\n",
    "# Predict on test set\n",
    "predictions = model.predict(X_test)\n",
    "\n",
    "# Evaluate the model\n",
    "print(\"Classification Report:\")\n",
    "print(classification_report(y_test, predictions))\n",
    "print(\"Confusion Matrix:\")\n",
    "print(confusion_matrix(y_test, predictions))"
   ]
  },
  {
   "cell_type": "markdown",
   "id": "3898c2ab",
   "metadata": {},
   "source": [
    "## Ensemble Methods: \n",
    "Using ensemble learning methods like boosting and bagging to improve the classification performance for the minority class. Techniques like Balanced Random Forests and AdaBoost are examples where the ensemble method inherently addresses class imbalance. Ensemble methods are powerful techniques in machine learning that combine the strengths of multiple models to improve overall performance, particularly in handling complex problems like class imbalance. Let's break down these concepts into simpler, more digestible parts for better understanding.\n",
    "\n",
    "**What are Ensemble Methods?**\n",
    "\n",
    "Imagine you're trying to solve a tough problem, and instead of tackling it alone, you consult a group of experts. Each expert gives their opinion, and you make the final decision based on their collective input. This is the essence of ensemble methods: combining multiple models (the \"experts\") to make a final prediction (the \"decision\").\n",
    "\n",
    "Ensemble methods are especially useful in dealing with imbalanced datasets, where one class (e.g., fraud) is much less common than the other (e.g., non-fraud). These methods help in not just improving overall accuracy but also in enhancing the detection of the minority class.\n",
    "\n",
    "### Types of Ensemble Methods\n",
    "\n",
    "There are primarily two types of ensemble methods: **Boosting** and **Bagging**. Both have unique approaches to model building and learning.\n",
    "\n",
    "#### Bagging (Bootstrap Aggregating)\n",
    "\n",
    "- **How it Works**: Bagging involves creating multiple models (usually of the same type), each trained on a random subset of the training data. The final prediction is typically an average (for regression) or a majority vote (for classification) of the predictions from all models.\n",
    "- **Key Example**: **Balanced Random Forests**. A variant of the Random Forest algorithm, Balanced Random Forests specifically address class imbalance by balancing the data in each bootstrap sample used to train individual trees.\n",
    "\n",
    "#### Boosting\n",
    "\n",
    "- **How it Works**: Boosting builds models sequentially, where each new model attempts to correct errors made by the previous models. Models are weighted based on their accuracy, and more focus is placed on instances that are harder to predict.\n",
    "- **Key Example**: **AdaBoost** (Adaptive Boosting). AdaBoost starts by fitting a model on the original dataset and then fits additional copies of the model on the same dataset but where the weights of incorrectly classified instances are adjusted such that subsequent models focus more on difficult cases.\n",
    "\n",
    "### Why Ensemble Methods?\n",
    "\n",
    "- **Improved Accuracy**: By combining multiple models, ensemble methods can capture complex patterns in the data that single models might miss.\n",
    "- **Better Handling of Class Imbalance**: Techniques like Balanced Random Forests directly address imbalance by ensuring that each tree in the ensemble focuses on a balanced subset of the data. Boosting methods like AdaBoost adaptively change the dataset's distribution based on the performance of previous models, giving more weight to misclassified instances, often belonging to the minority class.\n",
    "- **Versatility**: These methods can be applied to various types of data and prediction problems, making them highly adaptable to different scenarios, including those with imbalanced classes.\n"
   ]
  },
  {
   "cell_type": "code",
   "execution_count": 13,
   "id": "84693078",
   "metadata": {},
   "outputs": [
    {
     "name": "stdout",
     "output_type": "stream",
     "text": [
      "Balanced Random Forest Classifier:\n",
      "              precision    recall  f1-score   support\n",
      "\n",
      "           0       1.00      0.98      0.99     56864\n",
      "           1       0.06      0.92      0.11        98\n",
      "\n",
      "    accuracy                           0.98     56962\n",
      "   macro avg       0.53      0.95      0.55     56962\n",
      "weighted avg       1.00      0.98      0.99     56962\n",
      "\n",
      "Confusion Matrix:\n",
      "[[55448  1416]\n",
      " [    8    90]]\n"
     ]
    }
   ],
   "source": [
    "X = credit.drop('Class', axis=1)  # Assuming 'Class' is the target column\n",
    "y = credit['Class']\n",
    "\n",
    "from sklearn.model_selection import train_test_split\n",
    "\n",
    "# Split the data\n",
    "X_train, X_test, y_train, y_test = train_test_split(X,\n",
    "                                                    y,\n",
    "                                                    test_size=0.2,\n",
    "                                                    random_state=42)\n",
    "\n",
    "# Initialize and fit the model\n",
    "brf = BalancedRandomForestClassifier(n_estimators=100, random_state=42)\n",
    "brf.fit(X_train, y_train)\n",
    "\n",
    "# Predictions\n",
    "y_pred_brf = brf.predict(X_test)\n",
    "\n",
    "# Evaluation\n",
    "print(\"Balanced Random Forest Classifier:\")\n",
    "print(classification_report(y_test, y_pred_brf))\n",
    "print(\"Confusion Matrix:\")\n",
    "print(confusion_matrix(y_test, y_pred_brf))"
   ]
  },
  {
   "cell_type": "markdown",
   "id": "16314838",
   "metadata": {},
   "source": [
    "## Evaluation Metrics\n",
    "\n",
    "- **Using Appropriate Metrics**: Employing performance metrics that provide more insight into the effectiveness of the model in classifying minority class instances, such as precision-recall (PR) curves, F1-score, balanced accuracy, and AUROC.\n",
    "\n",
    "## Data Collection\n",
    "\n",
    "- **Additional Data Collection**: Sometimes, collecting more data can help, especially if the data collection process initially overlooked instances from the minority class."
   ]
  },
  {
   "cell_type": "markdown",
   "id": "46a3a4f6",
   "metadata": {},
   "source": [
    "# It's your time to shine!"
   ]
  },
  {
   "cell_type": "markdown",
   "id": "b1eeebdf",
   "metadata": {},
   "source": [
    "Try to apply what you learned to the `titanic` dataset, described below:"
   ]
  },
  {
   "cell_type": "markdown",
   "id": "19cd7a26",
   "metadata": {},
   "source": [
    "**Titanic: Machine Learning from Disaster**\n",
    "\n",
    "- **Description**: The Titanic dataset is a classic and very popular dataset used for various machine learning tasks, including binary classification (survival prediction). It includes passenger information like age, sex, ticket class, and whether or not they survived the disaster.\n",
    "- **Imbalanced Nature**: The survival rate in this dataset is imbalanced, though not as severely as the fraud detection dataset. It's a good starting point for discussions on imbalance and its effects on model performance.\n",
    "- **Missing Data Aspect**: This dataset contains missing values in several columns, such as age and cabin number, making it an excellent case for teaching how to handle missing data. Techniques such as imputation, dropping rows/columns, or using algorithms that can handle missing values directly can be explored."
   ]
  }
 ],
 "metadata": {
  "kernelspec": {
   "display_name": "Python 3 (ipykernel)",
   "language": "python",
   "name": "python3"
  },
  "language_info": {
   "codemirror_mode": {
    "name": "ipython",
    "version": 3
   },
   "file_extension": ".py",
   "mimetype": "text/x-python",
   "name": "python",
   "nbconvert_exporter": "python",
   "pygments_lexer": "ipython3",
   "version": "3.11.5"
  },
  "toc": {
   "base_numbering": 1,
   "nav_menu": {},
   "number_sections": true,
   "sideBar": true,
   "skip_h1_title": false,
   "title_cell": "Table of Contents",
   "title_sidebar": "Contents",
   "toc_cell": false,
   "toc_position": {},
   "toc_section_display": true,
   "toc_window_display": true
  }
 },
 "nbformat": 4,
 "nbformat_minor": 5
}
